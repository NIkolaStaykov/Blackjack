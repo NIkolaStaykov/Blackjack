{
 "cells": [
  {
   "cell_type": "code",
   "execution_count": 26,
   "metadata": {},
   "outputs": [],
   "source": [
    "import numpy as np\n",
    "from Strategy import choose_action"
   ]
  },
  {
   "cell_type": "code",
   "execution_count": 8,
   "metadata": {},
   "outputs": [],
   "source": [
    "class Deck():\n",
    "    def __init__(self,):\n",
    "        self.cards = ['2','3','4','5','6','7','8','9','10','J','Q','K','A']\n",
    "        self.face_cards = ['J','Q','K']\n",
    "    def draw(self,):\n",
    "        card_drawn = np.random.choice(self.cards)\n",
    "        return card_drawn"
   ]
  },
  {
   "cell_type": "code",
   "execution_count": 42,
   "metadata": {},
   "outputs": [],
   "source": [
    "class BlackJack():\n",
    "    def __init__(self):\n",
    "        self.deck = Deck()\n",
    "        self.hands_to_play = []\n",
    "        self.dealer_public = None\n",
    "        self.dealer_hidden = None\n",
    "        self.bet = None\n",
    "        self.hands_to_resolve = []\n",
    "        \n",
    "    def deal(self, ):\n",
    "        player_hand = [self.deck.draw(), self.deck.draw()]\n",
    "        self.dealer_public = self.deck.draw()\n",
    "        self.dealer_hidden = self.deck.draw()\n",
    "        self.hands_to_play.append(player_hand)\n",
    "        \n",
    "    def reset(self, bet):\n",
    "        self.bet = bet\n",
    "        self.deal()\n",
    "        return (self.hands_to_play, self.hands_to_resolve, self.dealer_public)\n",
    "    \n",
    "    def reset_with_specific_hand(self, dealer):\n",
    "        return NotImplemented\n",
    "    \n",
    "    def hand_to_value(self, hand):\n",
    "        value = 0\n",
    "        aces = 0\n",
    "        for card in hand:\n",
    "            if card in self.deck.face_cards:\n",
    "                value = value + 10\n",
    "            elif card == 'A':\n",
    "                value = value + 11\n",
    "                aces = aces + 1\n",
    "            else:\n",
    "                value = value + int(card)\n",
    "        while (value > 21 and aces > 0):\n",
    "            value = value - 10\n",
    "            aces = aces -1\n",
    "        return value\n",
    "    \n",
    "    \n",
    "    def dealer_hit_strategy(self, dealer_hand):\n",
    "        dealer_score = self.hand_to_value(dealer_hand)\n",
    "        \n",
    "        print(dealer_hand, dealer_score)\n",
    "        \n",
    "        if(dealer_score < 17):\n",
    "            dealer_hand.append(self.deck.draw())\n",
    "            self.dealer_hit_strategy(dealer_hand)\n",
    "\n",
    "        if(dealer_score in range(17, 22)):\n",
    "            return dealer_score\n",
    "\n",
    "        if(dealer_score > 21):\n",
    "            return 0\n",
    "    \n",
    "    def check_blackjack(self, hand):\n",
    "        value = self.hand_to_value(hand)\n",
    "        if value == 21 and len(hand) == 2:\n",
    "            return True\n",
    "        else:\n",
    "            return False\n",
    "            \n",
    "    def resolve(self, player_value, dealer_hand):\n",
    "        \n",
    "        dealer_score = dealer_hit_strategy(dealer_hand)\n",
    "        \n",
    "        if(player_value > dealer_score):\n",
    "            return\n",
    "        \n",
    "        return NotImplemented\n",
    "    \n",
    "    def check_player_bust(self, hand):\n",
    "        value = self.hand_to_value(hand)\n",
    "        if value > 21:\n",
    "            return True\n",
    "        else:\n",
    "            return False\n",
    "\n",
    "    def step_hand(self, action, player_hand):\n",
    "        player_has_blackjack = self.check_blackjack(player_hand)\n",
    "        \n",
    "        if player_has_blackjack:\n",
    "            self.hands_to_resolve.append(player_hand)\n",
    "            self.hands_to_play.remove(player_hand)\n",
    "            return (player_hand, self.dealer_public), 0, 1, {'player_has_blackjack':1}\n",
    "        \n",
    "        else:\n",
    "            if action == 'stand':\n",
    "                self.hands_to_resolve.append(player_hand)\n",
    "                return (player_hand, self.dealer_public), 0, 1, {'player_has_blackjack':0}\n",
    "            \n",
    "            elif action == 'hit':\n",
    "                player_hand.append(deck.draw())\n",
    "                is_player_bust = self.check_player_bust(player_hand)\n",
    "                if is_player_bust:\n",
    "                    return (player_hand, self.dealer_public), 0, 1, {'player_has_blackjack':0}\n",
    "                else:\n",
    "                    return (player_hand, self.dealer_public), 0, 0, {'player_has_blackjack':0}\n",
    "                \n",
    "            elif action == 'double':\n",
    "                self.bet = self.bet * 2\n",
    "                player_hand.append(deck.draw())\n",
    "                is_player_bust = self.check_player_bust(player_hand)\n",
    "                if is_player_bust:\n",
    "                    return (player_hand, self.dealer_public), 0, 1, {'player_has_blackjack':0}\n",
    "                else:\n",
    "                    self.hands_to_resolve.append(player_hand)\n",
    "                    return (player_hand, self.dealer_public), 0, 1, {'player_has_blackjack':0}\n",
    "            \n",
    "            elif action == 'split':\n",
    "                assert len(player_hand) != 2, 'Player has more than two cards'\n",
    "                assert player_hand[0] == player_hand[1], 'Player`s cards are different'\n",
    "                self.player_hands.append([player_hand[0], deck.draw()])\n",
    "                player_hand = [player_hand[0], deck.draw()]\n",
    "                return (player_hand, self.dealer_public), 0, 0, {'player_has_blackjack':0}\n",
    "            \n",
    "    def step(self):\n",
    "        while(len(self.hands_to_play) > 0):\n",
    "            for player_hand in self.hands_to_play:\n",
    "                action = choose_action(player_hand, self.dealer_public)\n",
    "                self.step_hand(action, player_hand)\n",
    "                \n",
    "        self.resolve()\n",
    "        "
   ]
  },
  {
   "cell_type": "code",
   "execution_count": 43,
   "metadata": {},
   "outputs": [],
   "source": [
    "env = BlackJack()"
   ]
  },
  {
   "cell_type": "code",
   "execution_count": 44,
   "metadata": {},
   "outputs": [
    {
     "data": {
      "text/plain": [
       "([['4', '2']], [], '4')"
      ]
     },
     "execution_count": 44,
     "metadata": {},
     "output_type": "execute_result"
    }
   ],
   "source": [
    "x = env.reset(300)\n",
    "x"
   ]
  },
  {
   "cell_type": "code",
   "execution_count": 45,
   "metadata": {},
   "outputs": [
    {
     "name": "stdout",
     "output_type": "stream",
     "text": [
      "['Q', '6', 'A'] 17\n"
     ]
    },
    {
     "data": {
      "text/plain": [
       "17"
      ]
     },
     "execution_count": 45,
     "metadata": {},
     "output_type": "execute_result"
    }
   ],
   "source": [
    "env.dealer_hit_strategy([\"Q\", \"6\", \"A\"])"
   ]
  },
  {
   "cell_type": "code",
   "execution_count": null,
   "metadata": {},
   "outputs": [],
   "source": []
  }
 ],
 "metadata": {
  "kernelspec": {
   "display_name": "Python 3",
   "language": "python",
   "name": "python3"
  },
  "language_info": {
   "codemirror_mode": {
    "name": "ipython",
    "version": 3
   },
   "file_extension": ".py",
   "mimetype": "text/x-python",
   "name": "python",
   "nbconvert_exporter": "python",
   "pygments_lexer": "ipython3",
   "version": "3.7.6"
  }
 },
 "nbformat": 4,
 "nbformat_minor": 4
}
