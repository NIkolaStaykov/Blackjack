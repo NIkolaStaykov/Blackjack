{
 "cells": [
  {
   "cell_type": "code",
   "execution_count": 1,
   "metadata": {},
   "outputs": [],
   "source": [
    "import numpy as np"
   ]
  },
  {
   "cell_type": "code",
   "execution_count": 2,
   "metadata": {},
   "outputs": [],
   "source": [
    "class Deck():\n",
    "    def __init__(self,):\n",
    "        self.cards = ['2','3','4','5','6','7','8','9','10','J','Q','K','A']\n",
    "        self.face_cards = ['J','Q','K']\n",
    "    def draw(self,):\n",
    "        card_drawn = np.random.choice(self.cards)\n",
    "        return card_drawn"
   ]
  },
  {
   "cell_type": "code",
   "execution_count": 17,
   "metadata": {},
   "outputs": [],
   "source": [
    "class BlackJack():\n",
    "    def __init__(self):\n",
    "        self.deck = Deck()\n",
    "        self.hands_to_play = None\n",
    "        self.dealer_public = None\n",
    "        self.dealer_hidden = None\n",
    "        self.bet = None\n",
    "        self.hands_to_resolve = []\n",
    "    def deal(self, ):\n",
    "        self.player_hands = [[self.deck.draw(), self.deck.draw()]]\n",
    "        self.dealer_public = self.deck.draw()\n",
    "        self.dealer_hidden = self.deck.draw()\n",
    "    def reset(self, bet):\n",
    "        self.bet = bet\n",
    "        self.deal()\n",
    "        return (self.hands_to_play, self.hands_to_resolve, self.dealer)\n",
    "    def reset_with_specific_hand(self, dealer):\n",
    "        return NotImplemented\n",
    "    def hand_to_value(self, hand):\n",
    "        value = 0\n",
    "        aces = 0\n",
    "        for card in hand:\n",
    "            if card in self.deck.face_cards:\n",
    "                value = value + 10\n",
    "            elif card == 'A':\n",
    "                value = value + 11\n",
    "                aces = aces + 1\n",
    "            else:\n",
    "                value = value + int(card)\n",
    "        while (value > 21 and aces > 0):\n",
    "            value = value - 11\n",
    "            aces = aces -1\n",
    "        return value\n",
    "    \n",
    "    def dealer_hit_strategy(self, dealer_hand):\n",
    "        return NotImplemented  \n",
    "    \n",
    "    def check_blackjack(self, hand):\n",
    "        value = self.hand_to_value(hand)\n",
    "        if value == 21 and len(hand) == 2:\n",
    "            return True\n",
    "        else:\n",
    "            return False\n",
    "            \n",
    "    def resolve(self, player_value, dealer_value, dealer_hand):\n",
    "        return NotImplemented\n",
    "    \n",
    "    def check_player_bust(self, hand):\n",
    "        value = self.hand_to_value(hand)\n",
    "        if value > 21:\n",
    "            return True\n",
    "        else:\n",
    "            return False\n",
    "\n",
    "    def step_hand(self, action, player_hand):\n",
    "        player_has_blackjack = self.check_blackjack(self.hand)\n",
    "        if player_has_blackjack:\n",
    "            self.hands_to_resolve.append(player_hand)\n",
    "            return (player_hand, self.dealer_public), 0, 1, {'player_has_blackjack':1}\n",
    "        else:\n",
    "            \n",
    "            if action == 'stand':\n",
    "                self.hands_to_resolve.append(player_hand)\n",
    "                return (player_hand, self.dealer_public), 0, 1, {'player_has_blackjack':0}\n",
    "            \n",
    "            elif action == 'hit':\n",
    "                player_hand.append(deck.deal())\n",
    "                is_player_bust = self.check_player_bust(player_hand)\n",
    "                if is_player_bust:\n",
    "                    return (player_hand, self.dealer_public), 0, 1, {'player_has_blackjack':0}\n",
    "                else:\n",
    "                    return (player_hand, self.dealer_public), 0, 0, {'player_has_blackjack':0}\n",
    "                \n",
    "            elif action == 'double':\n",
    "                self.bet = self.bet * 2\n",
    "                player_hand.append(deck.deal())\n",
    "                is_player_bust = self.check_player_bust(player_hand)\n",
    "                if is_player_bust:\n",
    "                    return (player_hand, self.dealer_public), 0, 1, {'player_has_blackjack':0}\n",
    "                else:\n",
    "                    self.hands_to_resolve.append(player_hand)\n",
    "                    return (player_hand, self.dealer_public), 0, 1, {'player_has_blackjack':0}\n",
    "            \n",
    "            elif action == 'split':\n",
    "                assert len(player_hand) != 2, 'Player has more than two cards'\n",
    "                assert player_hand[0] == player_hand[1], 'Player`s cards are different'\n",
    "                self.player_hands.append([player_hand[0], deck.deal()])\n",
    "                player_hand = [player_hand[0], deck.deal()]\n",
    "                return (player_hand, self.dealer_public), 0, 0, {'player_has_blackjack':0}\n",
    "            \n",
    "    def step(self, actions):\n",
    "        assert len(actions) == len(self.player_hands), 'Number of actions is different from number of hands'\n",
    "        \n",
    "        "
   ]
  },
  {
   "cell_type": "code",
   "execution_count": 4,
   "metadata": {},
   "outputs": [],
   "source": [
    "env = BlackJack()"
   ]
  },
  {
   "cell_type": "code",
   "execution_count": 14,
   "metadata": {},
   "outputs": [
    {
     "data": {
      "text/plain": [
       "(['8', '6'], ['2'])"
      ]
     },
     "execution_count": 14,
     "metadata": {},
     "output_type": "execute_result"
    }
   ],
   "source": [
    "x = env.reset(300)\n",
    "x"
   ]
  },
  {
   "cell_type": "code",
   "execution_count": 15,
   "metadata": {},
   "outputs": [
    {
     "data": {
      "text/plain": [
       "14"
      ]
     },
     "execution_count": 15,
     "metadata": {},
     "output_type": "execute_result"
    }
   ],
   "source": [
    "env.hand_to_value(x[0])"
   ]
  },
  {
   "cell_type": "code",
   "execution_count": null,
   "metadata": {},
   "outputs": [],
   "source": []
  }
 ],
 "metadata": {
  "kernelspec": {
   "display_name": "Python 3",
   "language": "python",
   "name": "python3"
  },
  "language_info": {
   "codemirror_mode": {
    "name": "ipython",
    "version": 3
   },
   "file_extension": ".py",
   "mimetype": "text/x-python",
   "name": "python",
   "nbconvert_exporter": "python",
   "pygments_lexer": "ipython3",
   "version": "3.8.5"
  }
 },
 "nbformat": 4,
 "nbformat_minor": 4
}
