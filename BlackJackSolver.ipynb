{
 "cells": [
  {
   "cell_type": "code",
   "execution_count": 1,
   "metadata": {
    "scrolled": true
   },
   "outputs": [],
   "source": [
    "import numpy as np\n",
    "from Strategy import Player\n",
    "import matplotlib.pyplot as plt\n",
    "import pandas as pd\n",
    "from tqdm import tqdm\n",
    "from scipy.stats import norm"
   ]
  },
  {
   "cell_type": "markdown",
   "metadata": {},
   "source": [
    "experiment_data = pd.DataFrame(columns = [\"Hands played\", \"Percent won\", \"Bet size\", \"Hit zero\", \"Percent per hour\"])"
   ]
  },
  {
   "cell_type": "markdown",
   "metadata": {
    "scrolled": true
   },
   "source": [
    "try:\n",
    "    experiment_data = pd.read_csv(\"experiment_data.csv\")\n",
    "except:\n",
    "    experiment_data = pd.DataFrame(columns = [\"Hands played\", \"Percent won\", \"Bet size\", \"Hit zero\", \"Percent per hour\"])"
   ]
  },
  {
   "cell_type": "code",
   "execution_count": 2,
   "metadata": {
    "scrolled": true
   },
   "outputs": [],
   "source": [
    "class Deck():\n",
    "    def __init__(self,):\n",
    "        self.cards = ['2','3','4','5','6','7','8','9','10','J','Q','K','A']\n",
    "        self.face_cards = ['J','Q','K']\n",
    "    def draw(self,):\n",
    "        card_drawn = np.random.choice(self.cards)\n",
    "        return card_drawn"
   ]
  },
  {
   "cell_type": "code",
   "execution_count": 3,
   "metadata": {
    "scrolled": true
   },
   "outputs": [],
   "source": [
    "class BlackJack():\n",
    "    def __init__(self, player):\n",
    "        self.deck = Deck()\n",
    "        self.hands_to_play = []\n",
    "        self.dealer_public = None\n",
    "        self.dealer_hidden = None\n",
    "        self.bet = None\n",
    "        self.hands_to_resolve = []\n",
    "        self.player = player      \n",
    "        self.bankrolls = []\n",
    "    def deal(self, player_cards):\n",
    "        if player_cards== None:\n",
    "            player_hand = [self.deck.draw(), self.deck.draw()]\n",
    "        else:\n",
    "            player_hand = player_cards\n",
    "        \n",
    "        self.dealer_public = self.deck.draw()\n",
    "        self.dealer_hidden = self.deck.draw()\n",
    "        self.hands_to_play.append(player_hand)\n",
    "        \n",
    "        \n",
    "    def reset(self, bet, player_cards = None):\n",
    "        self.bet = bet\n",
    "        self.bets = [bet]           \n",
    "        self.player.bankroll -= self.bet\n",
    "        self.deal(player_cards)\n",
    "        return (self.hands_to_play, self.hands_to_resolve, self.dealer_public)\n",
    "    \n",
    "    def hand_to_value(self, hand):\n",
    "        value = 0\n",
    "        aces = 0\n",
    "        for card in hand:\n",
    "            if card in self.deck.face_cards:\n",
    "                value = value + 10\n",
    "            elif card == 'A':\n",
    "                value = value + 11\n",
    "                aces = aces + 1\n",
    "            else:\n",
    "                value = value + int(card)\n",
    "        while (value > 21 and aces > 0):\n",
    "            value = value - 10\n",
    "            aces = aces - 1\n",
    "        return value\n",
    "    \n",
    "    \n",
    "    def dealer_hit_strategy(self, dealer_hand):\n",
    "        dealer_score = self.hand_to_value(dealer_hand)\n",
    "        \n",
    "        if(dealer_score < 17):\n",
    "            dealer_hand.append(self.deck.draw())\n",
    "            return self.dealer_hit_strategy(dealer_hand)\n",
    "\n",
    "        elif(dealer_score in range(17, 22)):\n",
    "            return dealer_score, self.check_blackjack(dealer_hand), dealer_hand\n",
    "\n",
    "        elif(dealer_score > 21):\n",
    "            return 0, self.check_blackjack(dealer_hand), dealer_hand\n",
    "    \n",
    "    def check_blackjack(self, hand):\n",
    "        value = self.hand_to_value(hand)\n",
    "        if value == 21 and len(hand) == 2:\n",
    "            return 1\n",
    "        else:\n",
    "            return 0\n",
    "            \n",
    "    def resolve(self, player_hand, dealer_score, dealer_has_blackjack):\n",
    "        \n",
    "        player_score = self.hand_to_value(player_hand)\n",
    "        player_has_blackjack = self.check_blackjack(player_hand)\n",
    "        \n",
    "        if(self.check_player_bust(player_hand)):\n",
    "            #print(\"player busts\")\n",
    "            return 0\n",
    "        \n",
    "        if(dealer_has_blackjack):\n",
    "            if(player_has_blackjack):\n",
    "                #print(\"push\")\n",
    "                return 1\n",
    "            else:\n",
    "                #print(\"player loses\")      \n",
    "                return 0\n",
    "        \n",
    "        if(player_score > dealer_score):\n",
    "            if player_has_blackjack:\n",
    "                #print(\"Blackjack\")\n",
    "                return 2.5\n",
    "            else:\n",
    "                #print(\"Player wins\")\n",
    "                return 2\n",
    "        \n",
    "        if(player_score == dealer_score):\n",
    "            #print(\"push\")\n",
    "            return 1\n",
    "        \n",
    "        if(player_score < dealer_score):\n",
    "            #print(\"player loses\")\n",
    "            return 0\n",
    "           \n",
    "    \n",
    "    def check_player_bust(self, hand):\n",
    "        value = self.hand_to_value(hand)\n",
    "        if value > 21:\n",
    "            return True\n",
    "        else:\n",
    "            return False\n",
    "\n",
    "    def step_hand(self, action, player_hand):\n",
    "        \n",
    "        player_has_blackjack = self.check_blackjack(player_hand)\n",
    "        \n",
    "        if player_has_blackjack:\n",
    "            return player_hand, 1\n",
    "        \n",
    "        else:\n",
    "            if action == 'stand':\n",
    "                return player_hand, 1\n",
    "            \n",
    "            elif action == 'hit':\n",
    "                player_hand.append(self.deck.draw())\n",
    "                is_player_bust = self.check_player_bust(player_hand)\n",
    "                if is_player_bust:\n",
    "                    return player_hand, 1\n",
    "                else:\n",
    "                    return player_hand, 0\n",
    "                \n",
    "            elif action == 'double':\n",
    "                \n",
    "                self.player.bankroll -= self.bet\n",
    "                self.bet=self.bet * 2\n",
    "                player_hand.append(self.deck.draw())\n",
    "                \n",
    "                return player_hand, 1\n",
    "            \n",
    "            elif action == 'split':\n",
    "                \n",
    "                assert len(player_hand) == 2, 'Player has more than two cards'\n",
    "                assert player_hand[0] == player_hand[1], 'Player`s cards are different'\n",
    "                self.player.bankroll -= self.bet\n",
    "                if player_hand[0] == 'A':\n",
    "                    self.hands_to_resolve.append([player_hand[0], self.deck.draw()])\n",
    "                    self.hands_to_resolve.append([player_hand[0], self.deck.draw()])\n",
    "                    self.bets.append(self.bet)\n",
    "                    \n",
    "                    self.hands_to_play.remove(player_hand)\n",
    "                else:\n",
    "                    self.hands_to_play.append([player_hand[0], self.deck.draw()])\n",
    "                    self.hands_to_play.append([player_hand[0], self.deck.draw()])\n",
    "                    \n",
    "                \n",
    "                return player_hand, 1\n",
    "    def update_player_stats(self, reward):\n",
    "        if reward == 2.5:\n",
    "            self.player.blackjacks += 1\n",
    "        elif reward == 2:\n",
    "            self.player.wins += 1\n",
    "        elif reward == 1:\n",
    "            self.player.draws += 1\n",
    "        else:\n",
    "            self.player.loses+= 1\n",
    "            \n",
    "    def step(self):\n",
    "        while(len(self.hands_to_play) > 0):\n",
    "            for player_hand in self.hands_to_play:\n",
    "                done = 0\n",
    "                \n",
    "                while not done:\n",
    "                    action = self.player.choose_action(player_hand, self.dealer_public)\n",
    "                    #print(action, player_hand)\n",
    "                    player_hand, done = self.step_hand(action, player_hand)\n",
    "                    \n",
    "                    \n",
    "              \n",
    "                self.bets.append(self.bet)\n",
    "                try:\n",
    "                    self.hands_to_play.remove(player_hand)\n",
    "                    self.hands_to_resolve.append(player_hand)\n",
    "                except:\n",
    "                    pass\n",
    "                #print(\"final_hand:{}\".format(player_hand))\n",
    "                if action == 'double':\n",
    "                    self.bet = self.bet/2\n",
    "        #print([self.dealer_public, self.dealer_hidden])\n",
    "        \n",
    "        dealer_score, dealer_has_blackjack, dealer_hand = self.dealer_hit_strategy([self.dealer_public, self.dealer_hidden])\n",
    "        #print(dealer_hand)\n",
    "        #print(self.hands_to_resolve)\n",
    "        while self.hands_to_resolve:\n",
    "            player_hand=self.hands_to_resolve.pop()\n",
    "            reward = self.resolve(player_hand, dealer_score, dealer_has_blackjack)\n",
    "            self.update_player_stats(reward)\n",
    "            self.player.bankroll += reward * self.bets.pop()\n",
    "            self.bankrolls.append(self.player.bankroll)\n",
    "        "
   ]
  },
  {
   "cell_type": "code",
   "execution_count": 4,
   "metadata": {},
   "outputs": [],
   "source": [
    "def add_to_database():\n",
    "    global experiment_data\n",
    "    percent_won = 100 * (env.player.bankroll - initial_money)/initial_money\n",
    "    percent_per_hour = percent_won/hands_num * 350\n",
    "    new_experiment_data = [np.log10(hands_num), percent_won, bet_size, hit_min, percent_per_hour]\n",
    "    experiment_data = experiment_data.append(pd.Series(new_experiment_data, index = experiment_data.columns), ignore_index = 1)"
   ]
  },
  {
   "cell_type": "code",
   "execution_count": 5,
   "metadata": {},
   "outputs": [],
   "source": [
    "initial_money = 100\n",
    "hands_num = 31500 # will be saved as a power of ten\n",
    "bet_size = 0.01 # percent"
   ]
  },
  {
   "cell_type": "code",
   "execution_count": 15,
   "metadata": {},
   "outputs": [],
   "source": [
    "parameters = {\n",
    "    'initial_money': 1000,\n",
    "    #If flat bet is false the actual bet is bet_size * player_bankroll\n",
    "    'flat_bet':True,\n",
    "    'bet_size':2,\n",
    "    'num_hands':31500,\n",
    "    'sample_size':100\n",
    "}"
   ]
  },
  {
   "cell_type": "code",
   "execution_count": 16,
   "metadata": {},
   "outputs": [],
   "source": [
    "def grid_search_experiment(experiment, grid_parameters):\n",
    "    number_of_keys = {}\n",
    "    for key in grid_parameters.key()\n",
    "        \n",
    "    return NotImplemented"
   ]
  },
  {
   "cell_type": "code",
   "execution_count": 17,
   "metadata": {},
   "outputs": [],
   "source": [
    "def run_bet_size_experiment(parameters):\n",
    "    rewards = []\n",
    "    initial_money = parameters['initial_money']\n",
    "    for sample_num in tqdm(range(parameters['sample_size'])):\n",
    "        env = BlackJack(Player(initial_money))\n",
    "        for i in range(parameters['num_hands']):\n",
    "            if parameters['flat_bet']:\n",
    "                bet = min(parameters['bet_size'], env.player.bankroll)\n",
    "                bet = max(2, bet)\n",
    "            else:\n",
    "                bet = max(2, parameters['bet_size'] * env.player.bankroll)\n",
    "            if env.player.bankroll < 2:\n",
    "                hit_min = 1\n",
    "                break\n",
    "            else:\n",
    "                env.reset(bet)\n",
    "                env.step()\n",
    "        rewards.append(env.player.bankroll - initial_money)\n",
    "    results = {}\n",
    "    rewards = np.array(rewards)\n",
    "    results['bust_percentage'] = len(np.where(rewards < -95)[0])/len(rewards)\n",
    "    x1 = np.where(rewards >= -95)[0]\n",
    "    x2 = np.where(rewards <= 0)[0]\n",
    "    results['loses_percentage'] = len(np.intersect1d(x1,x2))/len(rewards)\n",
    "    results['wins_percentage'] = len(np.where(rewards > 0)[0])/len(rewards)\n",
    "    results['EV'] = rewards.mean()\n",
    "    results['Deviation'] = rewards.std()\n",
    "    results['rewards'] = rewards\n",
    "    return results"
   ]
  },
  {
   "cell_type": "code",
   "execution_count": 18,
   "metadata": {},
   "outputs": [
    {
     "name": "stderr",
     "output_type": "stream",
     "text": [
      "100%|██████████| 100/100 [03:23<00:00,  2.03s/it]"
     ]
    },
    {
     "name": "stdout",
     "output_type": "stream",
     "text": [
      "CPU times: user 3min 22s, sys: 144 ms, total: 3min 22s\n",
      "Wall time: 3min 23s\n"
     ]
    },
    {
     "name": "stderr",
     "output_type": "stream",
     "text": [
      "\n"
     ]
    },
    {
     "data": {
      "text/plain": [
       "{'bust_percentage': 0.11,\n",
       " 'loses_percentage': 0.01,\n",
       " 'wins_percentage': 0.88,\n",
       " 'EV': 480.06,\n",
       " 'Deviation': 426.34893737407157,\n",
       " 'rewards': array([1514., 1001.,  112.,  475., 1139.,  456.,  376., 1194.,  641.,\n",
       "        -185., 1007., -244.,  216.,  106., 1443., -261.,  644.,  417.,\n",
       "         777.,  281.,  252., -238.,  843.,  260.,  649., 1286., 1308.,\n",
       "         759.,  394.,  706.,  475.,  115.,  359.,  251.,  232.,   63.,\n",
       "         518., 1175.,  793.,  453.,  517.,  910.,  681., 1117.,  173.,\n",
       "         148., -120.,  510., -168.,  925.,  354.,  755.,  486., -220.,\n",
       "         550.,  474.,  110.,  466.,  229.,   38.,   10.,  445.,  632.,\n",
       "         763.,  796.,  587.,  595.,  491.,  315.,   70.,  395., 1022.,\n",
       "         713.,  493.,  790.,  655., -349.,  556.,  953., -487., -265.,\n",
       "         736.,  609.,  473., 1392.,  -41.,  610.,  199.,  158.,  126.,\n",
       "         862., -355.,  428., 1039.,  171.,  179.,  781.,  407.,  721.,\n",
       "         634.])}"
      ]
     },
     "execution_count": 18,
     "metadata": {},
     "output_type": "execute_result"
    }
   ],
   "source": [
    "%%time\n",
    "run_bet_size_experiment(parameters)"
   ]
  },
  {
   "cell_type": "markdown",
   "metadata": {
    "scrolled": true
   },
   "source": [
    "%%time\n",
    "rewards = []\n",
    "for sample_num in range(100):\n",
    "    hit_min = 0\n",
    "    env = BlackJack(Player(initial_money))\n",
    "    for i in tqdm(range(hands_num)):\n",
    "        this_bet = 2 \n",
    "        if env.player.bankroll < 2:\n",
    "            break\n",
    "        else:        \n",
    "            env.reset(this_bet)\n",
    "            env.step()\n",
    "            if(env.player.bankroll < 0):\n",
    "                hit_min = 1\n",
    "    rewards.append(env.player.bankroll - initial_money)\n",
    "    #add_to_database()\n"
   ]
  },
  {
   "cell_type": "markdown",
   "metadata": {},
   "source": [
    "experiment_data.to_csv(\"experiment_data.csv\", index = False)"
   ]
  },
  {
   "cell_type": "code",
   "execution_count": 10,
   "metadata": {
    "scrolled": true
   },
   "outputs": [
    {
     "ename": "NameError",
     "evalue": "name 'env' is not defined",
     "output_type": "error",
     "traceback": [
      "\u001b[0;31m---------------------------------------------------------------------------\u001b[0m",
      "\u001b[0;31mNameError\u001b[0m                                 Traceback (most recent call last)",
      "\u001b[0;32m<ipython-input-10-0a532afb6418>\u001b[0m in \u001b[0;36m<module>\u001b[0;34m\u001b[0m\n\u001b[0;32m----> 1\u001b[0;31m \u001b[0mplt\u001b[0m\u001b[0;34m.\u001b[0m\u001b[0mplot\u001b[0m\u001b[0;34m(\u001b[0m\u001b[0menv\u001b[0m\u001b[0;34m.\u001b[0m\u001b[0mbankrolls\u001b[0m\u001b[0;34m)\u001b[0m\u001b[0;34m\u001b[0m\u001b[0;34m\u001b[0m\u001b[0m\n\u001b[0m\u001b[1;32m      2\u001b[0m \u001b[0mplt\u001b[0m\u001b[0;34m.\u001b[0m\u001b[0mshow\u001b[0m\u001b[0;34m(\u001b[0m\u001b[0;34m)\u001b[0m\u001b[0;34m\u001b[0m\u001b[0;34m\u001b[0m\u001b[0m\n",
      "\u001b[0;31mNameError\u001b[0m: name 'env' is not defined"
     ]
    }
   ],
   "source": [
    "plt.plot(env.bankrolls)\n",
    "plt.show()"
   ]
  },
  {
   "cell_type": "code",
   "execution_count": null,
   "metadata": {},
   "outputs": [],
   "source": [
    "x = experiment_data[\"Percent per hour\"].values"
   ]
  },
  {
   "cell_type": "code",
   "execution_count": null,
   "metadata": {},
   "outputs": [],
   "source": [
    "plt.hist(x, bins = 100)"
   ]
  },
  {
   "cell_type": "code",
   "execution_count": null,
   "metadata": {},
   "outputs": [],
   "source": [
    "x.mean(), x.std()"
   ]
  },
  {
   "cell_type": "code",
   "execution_count": null,
   "metadata": {},
   "outputs": [],
   "source": [
    "cdf_probability = norm.cdf(0, loc=x.mean(), scale=x.std())"
   ]
  },
  {
   "cell_type": "code",
   "execution_count": null,
   "metadata": {},
   "outputs": [],
   "source": [
    "1-cdf_probability"
   ]
  },
  {
   "cell_type": "markdown",
   "metadata": {},
   "source": [
    "Blackjack percentage 0.04\n",
    "Wins percentage 0.38\n",
    "draws percentage 0.10\n",
    "loses percentage 0.48"
   ]
  },
  {
   "cell_type": "code",
   "execution_count": null,
   "metadata": {},
   "outputs": [],
   "source": []
  }
 ],
 "metadata": {
  "kernelspec": {
   "display_name": "Python 3",
   "language": "python",
   "name": "python3"
  },
  "language_info": {
   "codemirror_mode": {
    "name": "ipython",
    "version": 3
   },
   "file_extension": ".py",
   "mimetype": "text/x-python",
   "name": "python",
   "nbconvert_exporter": "python",
   "pygments_lexer": "ipython3",
   "version": "3.8.5"
  }
 },
 "nbformat": 4,
 "nbformat_minor": 4
}
