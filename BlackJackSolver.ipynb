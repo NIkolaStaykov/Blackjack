{
 "cells": [
  {
   "cell_type": "code",
   "execution_count": 1,
   "metadata": {
    "collapsed": true,
    "scrolled": true
   },
   "outputs": [],
   "source": [
    "import numpy as np\n",
    "from Strategy import Player\n",
    "import matplotlib.pyplot as plt"
   ]
  },
  {
   "cell_type": "code",
   "execution_count": 2,
   "metadata": {
    "collapsed": true,
    "scrolled": true
   },
   "outputs": [],
   "source": [
    "class Deck():\n",
    "    def __init__(self,):\n",
    "        self.cards = ['2','3','4','5','6','7','8','9','10','J','Q','K','A']\n",
    "        self.face_cards = ['J','Q','K']\n",
    "    def draw(self,):\n",
    "        card_drawn = np.random.choice(self.cards)\n",
    "        return card_drawn"
   ]
  },
  {
   "cell_type": "code",
   "execution_count": 3,
   "metadata": {
    "scrolled": true
   },
   "outputs": [],
   "source": [
    "class BlackJack():\n",
    "    def __init__(self, player):\n",
    "        self.deck = Deck()\n",
    "        self.hands_to_play = []\n",
    "        self.dealer_public = None\n",
    "        self.dealer_hidden = None\n",
    "        self.bet = None\n",
    "        self.hands_to_resolve = []\n",
    "        self.player = player      \n",
    "        self.bankrolls = []\n",
    "    def deal(self, player_cards):\n",
    "        if player_cards== None:\n",
    "            player_hand = [self.deck.draw(), self.deck.draw()]\n",
    "        else:\n",
    "            player_hand=player_cards\n",
    "        \n",
    "        self.dealer_public = self.deck.draw()\n",
    "        self.dealer_hidden = self.deck.draw()\n",
    "        self.hands_to_play.append(player_hand)\n",
    "        \n",
    "        \n",
    "    def reset(self, bet, player_cards= None):\n",
    "        self.bet = bet\n",
    "        self.bets = [bet]\n",
    "        self.player.bankroll -= self.bet\n",
    "        self.deal(player_cards)\n",
    "        return (self.hands_to_play, self.hands_to_resolve, self.dealer_public)\n",
    "    \n",
    "    def hand_to_value(self, hand):\n",
    "        value = 0\n",
    "        aces = 0\n",
    "        for card in hand:\n",
    "            if card in self.deck.face_cards:\n",
    "                value = value + 10\n",
    "            elif card == 'A':\n",
    "                value = value + 11\n",
    "                aces = aces + 1\n",
    "            else:\n",
    "                value = value + int(card)\n",
    "        while (value > 21 and aces > 0):\n",
    "            value = value - 10\n",
    "            aces = aces - 1\n",
    "        return value\n",
    "    \n",
    "    \n",
    "    def dealer_hit_strategy(self, dealer_hand):\n",
    "        dealer_score = self.hand_to_value(dealer_hand)\n",
    "        \n",
    "        if(dealer_score < 17):\n",
    "            dealer_hand.append(self.deck.draw())\n",
    "            return self.dealer_hit_strategy(dealer_hand)\n",
    "\n",
    "        elif(dealer_score in range(17, 22)):\n",
    "            return dealer_score, self.check_blackjack(dealer_hand), dealer_hand\n",
    "\n",
    "        elif(dealer_score > 21):\n",
    "            return 0, self.check_blackjack(dealer_hand), dealer_hand\n",
    "    \n",
    "    def check_blackjack(self, hand):\n",
    "        value = self.hand_to_value(hand)\n",
    "        if value == 21 and len(hand) == 2:\n",
    "            return 1\n",
    "        else:\n",
    "            return 0\n",
    "            \n",
    "    def resolve(self, player_hand, dealer_score, dealer_has_blackjack):\n",
    "        \n",
    "        player_score = self.hand_to_value(player_hand)\n",
    "        player_has_blackjack = self.check_blackjack(player_hand)\n",
    "        \n",
    "        if(self.check_player_bust(player_hand)):\n",
    "            #print(\"player busts\")\n",
    "            return 0\n",
    "        \n",
    "        if(dealer_has_blackjack):\n",
    "            if(player_has_blackjack):\n",
    "                #print(\"push\")\n",
    "                return 1\n",
    "            else:\n",
    "                #print(\"player loses\")      \n",
    "                return 0\n",
    "        \n",
    "        if(player_score > dealer_score):\n",
    "            if player_has_blackjack:\n",
    "                #print(\"Blackjack\")\n",
    "                return 2.5\n",
    "            else:\n",
    "                #print(\"Player wins\")\n",
    "                return 2\n",
    "        \n",
    "        if(player_score == dealer_score):\n",
    "            #print(\"push\")\n",
    "            return 1\n",
    "        \n",
    "        if(player_score < dealer_score):\n",
    "            #print(\"player loses\")\n",
    "            return 0\n",
    "           \n",
    "    \n",
    "    def check_player_bust(self, hand):\n",
    "        value = self.hand_to_value(hand)\n",
    "        if value > 21:\n",
    "            return True\n",
    "        else:\n",
    "            return False\n",
    "\n",
    "    def step_hand(self, action, player_hand):\n",
    "        \n",
    "        player_has_blackjack = self.check_blackjack(player_hand)\n",
    "        \n",
    "        if player_has_blackjack:\n",
    "            return player_hand, 1\n",
    "        \n",
    "        else:\n",
    "            if action == 'stand':\n",
    "                return player_hand, 1\n",
    "            \n",
    "            elif action == 'hit':\n",
    "                player_hand.append(self.deck.draw())\n",
    "                is_player_bust = self.check_player_bust(player_hand)\n",
    "                if is_player_bust:\n",
    "                    return player_hand, 1\n",
    "                else:\n",
    "                    return player_hand, 0\n",
    "                \n",
    "            elif action == 'double':\n",
    "                \n",
    "                self.player.bankroll -= self.bet\n",
    "                self.bet=self.bet * 2\n",
    "                player_hand.append(self.deck.draw())\n",
    "                \n",
    "                return player_hand, 1\n",
    "            \n",
    "            elif action == 'split':\n",
    "                \n",
    "                assert len(player_hand) == 2, 'Player has more than two cards'\n",
    "                assert player_hand[0] == player_hand[1], 'Player`s cards are different'\n",
    "                self.player.bankroll -= self.bet\n",
    "                if player_hand[0] == 'A':\n",
    "                    self.hands_to_resolve.append([player_hand[0], self.deck.draw()])\n",
    "                    self.hands_to_resolve.append([player_hand[0], self.deck.draw()])\n",
    "                    self.bets.append(self.bet)\n",
    "                    \n",
    "                    self.hands_to_play.remove(player_hand)\n",
    "                else:\n",
    "                    self.hands_to_play.append([player_hand[0], self.deck.draw()])\n",
    "                    self.hands_to_play.append([player_hand[0], self.deck.draw()])\n",
    "                    \n",
    "                \n",
    "                return player_hand, 1\n",
    "            \n",
    "    def step(self):\n",
    "        while(len(self.hands_to_play) > 0):\n",
    "            for player_hand in self.hands_to_play:\n",
    "                done = 0\n",
    "                \n",
    "                while not done:\n",
    "                    action = self.player.choose_action(player_hand, self.dealer_public)\n",
    "                    #print(action, player_hand)\n",
    "                    player_hand, done = self.step_hand(action, player_hand)\n",
    "                    \n",
    "                    \n",
    "              \n",
    "                self.bets.append(self.bet)\n",
    "                try:\n",
    "                    self.hands_to_play.remove(player_hand)\n",
    "                    self.hands_to_resolve.append(player_hand)\n",
    "                except:\n",
    "                    pass\n",
    "                #print(\"final_hand:{}\".format(player_hand))\n",
    "                if action == 'double':\n",
    "                    self.bet = self.bet/2\n",
    "        #print([self.dealer_public, self.dealer_hidden])\n",
    "        \n",
    "        dealer_score, dealer_has_blackjack, dealer_hand = self.dealer_hit_strategy([self.dealer_public, self.dealer_hidden])\n",
    "        #print(dealer_hand)\n",
    "        #print(self.hands_to_resolve)\n",
    "        while  self.hands_to_resolve:\n",
    "            player_hand=self.hands_to_resolve.pop()\n",
    "           \n",
    "            reward = self.resolve(player_hand, dealer_score, dealer_has_blackjack)\n",
    "            self.player.bankroll += reward * self.bets.pop()\n",
    "            self.bankrolls.append(self.player.bankroll)\n",
    "        "
   ]
  },
  {
   "cell_type": "code",
   "execution_count": 4,
   "metadata": {
    "scrolled": true
   },
   "outputs": [
    {
     "name": "stdout",
     "output_type": "stream",
     "text": [
      "Wall time: 7.16 s\n"
     ]
    }
   ],
   "source": [
    "%%time\n",
    "env = BlackJack(Player(1000))\n",
    "for i in range(100000):\n",
    "    env.reset(20)\n",
    "    env.step()\n",
    "\n",
    "   "
   ]
  },
  {
   "cell_type": "code",
   "execution_count": 5,
   "metadata": {
    "scrolled": true
   },
   "outputs": [
    {
     "data": {
      "image/png": "[encoded data removed]",
      "text/plain": [
       "<matplotlib.figure.Figure at 0x1555bbc8f60>"
      ]
     },
     "metadata": {},
     "output_type": "display_data"
    }
   ],
   "source": [
    "plt.plot(env.bankrolls)[0]\n",
    "plt.show()"
   ]
  },
  {
   "cell_type": "code",
   "execution_count": null,
   "metadata": {
    "scrolled": true
   },
   "outputs": [],
   "source": []
  },
  {
   "cell_type": "code",
   "execution_count": 6,
   "metadata": {
    "scrolled": true
   },
   "outputs": [
    {
     "data": {
      "text/plain": [
       "22860.0"
      ]
     },
     "execution_count": 6,
     "metadata": {},
     "output_type": "execute_result"
    }
   ],
   "source": [
    "env.player.bankroll\n"
   ]
  },
  {
   "cell_type": "code",
   "execution_count": null,
   "metadata": {
    "collapsed": true
   },
   "outputs": [],
   "source": []
  }
 ],
 "metadata": {
  "kernelspec": {
   "display_name": "Python 3",
   "language": "python",
   "name": "python3"
  },
  "language_info": {
   "codemirror_mode": {
    "name": "ipython",
    "version": 3
   },
   "file_extension": ".py",
   "mimetype": "text/x-python",
   "name": "python",
   "nbconvert_exporter": "python",
   "pygments_lexer": "ipython3",
   "version": "3.6.1"
  }
 },
 "nbformat": 4,
 "nbformat_minor": 4
}
